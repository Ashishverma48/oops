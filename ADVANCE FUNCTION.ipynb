{
 "cells": [
  {
   "cell_type": "markdown",
   "id": "bdd85ebc",
   "metadata": {},
   "source": [
    "# LAMBDA FUNCTION"
   ]
  },
  {
   "cell_type": "code",
   "execution_count": 1,
   "id": "2f92cf2a",
   "metadata": {},
   "outputs": [],
   "source": [
    "a = lambda x,y:x+y"
   ]
  },
  {
   "cell_type": "code",
   "execution_count": 2,
   "id": "8fdd2eec",
   "metadata": {},
   "outputs": [
    {
     "data": {
      "text/plain": [
       "5"
      ]
     },
     "execution_count": 2,
     "metadata": {},
     "output_type": "execute_result"
    }
   ],
   "source": [
    "a(1,4)"
   ]
  },
  {
   "cell_type": "code",
   "execution_count": 16,
   "id": "d70a9846",
   "metadata": {},
   "outputs": [],
   "source": [
    "# wap to add a number using lambda\n",
    "\n",
    "a = lambda x:6+x\n"
   ]
  },
  {
   "cell_type": "code",
   "execution_count": 18,
   "id": "6f9e864c",
   "metadata": {},
   "outputs": [
    {
     "data": {
      "text/plain": [
       "11"
      ]
     },
     "execution_count": 18,
     "metadata": {},
     "output_type": "execute_result"
    }
   ],
   "source": [
    "a(5)"
   ]
  },
  {
   "cell_type": "code",
   "execution_count": 22,
   "id": "9accc0ce",
   "metadata": {},
   "outputs": [],
   "source": [
    "# wap to get the output of a+b*c*d\n",
    "\n",
    "x = lambda a,b,c,d:(a+b)*(c+d)"
   ]
  },
  {
   "cell_type": "code",
   "execution_count": 23,
   "id": "1c8b38b8",
   "metadata": {},
   "outputs": [
    {
     "data": {
      "text/plain": [
       "21"
      ]
     },
     "execution_count": 23,
     "metadata": {},
     "output_type": "execute_result"
    }
   ],
   "source": [
    "x(1,2,3,4)"
   ]
  },
  {
   "cell_type": "code",
   "execution_count": 25,
   "id": "b934fbde",
   "metadata": {},
   "outputs": [
    {
     "data": {
      "text/plain": [
       "11"
      ]
     },
     "execution_count": 25,
     "metadata": {},
     "output_type": "execute_result"
    }
   ],
   "source": [
    "x = lambda a,b,c,d:a+b*c+d\n",
    "x(1,2,3,4)"
   ]
  },
  {
   "cell_type": "markdown",
   "id": "3ea413cc",
   "metadata": {},
   "source": [
    "# Filter Function"
   ]
  },
  {
   "cell_type": "code",
   "execution_count": 27,
   "id": "1f433f1e",
   "metadata": {},
   "outputs": [],
   "source": [
    "a = [12,54,86,33,67,74,44,55,22,98]\n",
    "x = list(filter(lambda a:True if a>60 else False,a))"
   ]
  },
  {
   "cell_type": "code",
   "execution_count": 29,
   "id": "a87ece91",
   "metadata": {},
   "outputs": [
    {
     "data": {
      "text/plain": [
       "[86, 67, 74, 98]"
      ]
     },
     "execution_count": 29,
     "metadata": {},
     "output_type": "execute_result"
    }
   ],
   "source": [
    "x"
   ]
  },
  {
   "cell_type": "code",
   "execution_count": 76,
   "id": "511aab86",
   "metadata": {},
   "outputs": [],
   "source": [
    "a = [12,54,86,33,67,74,44,55,22,98]\n",
    "def fun(a):\n",
    "    if a>60:\n",
    "        return True\n",
    "    else:\n",
    "        return False\n",
    "\n",
    "x = tuple(filter(fun,a))\n"
   ]
  },
  {
   "cell_type": "code",
   "execution_count": 77,
   "id": "252642e0",
   "metadata": {},
   "outputs": [
    {
     "data": {
      "text/plain": [
       "(86, 67, 74, 98)"
      ]
     },
     "execution_count": 77,
     "metadata": {},
     "output_type": "execute_result"
    }
   ],
   "source": [
    "x"
   ]
  },
  {
   "cell_type": "code",
   "execution_count": null,
   "id": "702b372d",
   "metadata": {},
   "outputs": [],
   "source": []
  },
  {
   "cell_type": "code",
   "execution_count": null,
   "id": "d236a963",
   "metadata": {},
   "outputs": [],
   "source": []
  }
 ],
 "metadata": {
  "kernelspec": {
   "display_name": "Python 3 (ipykernel)",
   "language": "python",
   "name": "python3"
  },
  "language_info": {
   "codemirror_mode": {
    "name": "ipython",
    "version": 3
   },
   "file_extension": ".py",
   "mimetype": "text/x-python",
   "name": "python",
   "nbconvert_exporter": "python",
   "pygments_lexer": "ipython3",
   "version": "3.9.13"
  }
 },
 "nbformat": 4,
 "nbformat_minor": 5
}
