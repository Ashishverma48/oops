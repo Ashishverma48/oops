{
 "cells": [
  {
   "cell_type": "code",
   "execution_count": 4,
   "id": "1dcb6f61",
   "metadata": {},
   "outputs": [],
   "source": [
    "class pc:\n",
    "    def __init__(self,name,age):\n",
    "        self.name=name\n",
    "        self.age=age\n",
    "class cc(pc):\n",
    "    def __init__(self,name,age,marks):\n",
    "        super().__init__(name,age)\n",
    "        self.marks=marks\n",
    "\n",
    "c=cc('ram',65,76)"
   ]
  },
  {
   "cell_type": "code",
   "execution_count": 5,
   "id": "cf11689d",
   "metadata": {},
   "outputs": [
    {
     "data": {
      "text/plain": [
       "'ram'"
      ]
     },
     "execution_count": 5,
     "metadata": {},
     "output_type": "execute_result"
    }
   ],
   "source": [
    "c.name"
   ]
  },
  {
   "cell_type": "code",
   "execution_count": 7,
   "id": "3ad2c6bb",
   "metadata": {},
   "outputs": [
    {
     "name": "stdout",
     "output_type": "stream",
     "text": [
      "2.8208955223880596\n"
     ]
    }
   ],
   "source": [
    "class pc:\n",
    "    def __init__(self,distance,speed):\n",
    "        self.speed=speed\n",
    "        self.distance=distance\n",
    "class cc(pc):\n",
    "    def __init__(self,distance,speed):\n",
    "        super().__init__(speed,distance)\n",
    "        time=distance/speed\n",
    "        print(time)\n",
    "t = cc(67,189)"
   ]
  },
  {
   "cell_type": "code",
   "execution_count": 12,
   "id": "c6eb6142",
   "metadata": {},
   "outputs": [],
   "source": [
    "#   time find  ????\n",
    "class car:\n",
    "    def __init__(self,distance,speed):\n",
    "        self.distance=distance\n",
    "        self.speed=speed\n",
    "class bike(car):\n",
    "    def _init__(self,distance,speed):\n",
    "        super().__init__(distance,speed)\n",
    "    def time(self):\n",
    "        time=(self.distance/self.speed)\n",
    "        print(time)\n",
    "        \n",
    "t=bike(189,67)\n",
    "    "
   ]
  },
  {
   "cell_type": "code",
   "execution_count": 13,
   "id": "52bd80d2",
   "metadata": {},
   "outputs": [
    {
     "name": "stdout",
     "output_type": "stream",
     "text": [
      "2.8208955223880596\n"
     ]
    }
   ],
   "source": [
    "t.time()"
   ]
  },
  {
   "cell_type": "code",
   "execution_count": 15,
   "id": "fc5f630d",
   "metadata": {},
   "outputs": [],
   "source": [
    "#  1\n",
    "\n",
    "class gpc:\n",
    "    def __init__(self,name,age):\n",
    "        self.name=name\n",
    "        self.age=age\n",
    "    \n",
    "class pc(gpc):\n",
    "    def __init__(self,name,age,marks):\n",
    "        super().__init__(name,age)\n",
    "        self.marks=marks\n",
    "        \n",
    "a = pc('ram',76,76)"
   ]
  },
  {
   "cell_type": "code",
   "execution_count": 18,
   "id": "bf91005e",
   "metadata": {},
   "outputs": [
    {
     "data": {
      "text/plain": [
       "(76, 'ram')"
      ]
     },
     "execution_count": 18,
     "metadata": {},
     "output_type": "execute_result"
    }
   ],
   "source": [
    "a.marks,a.name"
   ]
  },
  {
   "cell_type": "code",
   "execution_count": 21,
   "id": "7d41bb31",
   "metadata": {},
   "outputs": [],
   "source": [
    "#  2\n",
    "\n",
    "class pc:\n",
    "    def __init__(self,name,age):\n",
    "        self.name=name\n",
    "        self.age=age\n",
    "    \n",
    "class cc(pc):\n",
    "    def __init__(self,name,age,marks):\n",
    "        super().__init__(name,age)\n",
    "        self.marks=marks\n",
    "        \n",
    "a = cc('python',22,76)"
   ]
  },
  {
   "cell_type": "code",
   "execution_count": 22,
   "id": "4a26598c",
   "metadata": {},
   "outputs": [
    {
     "data": {
      "text/plain": [
       "22"
      ]
     },
     "execution_count": 22,
     "metadata": {},
     "output_type": "execute_result"
    }
   ],
   "source": [
    "a.age"
   ]
  },
  {
   "cell_type": "code",
   "execution_count": 23,
   "id": "69f96b41",
   "metadata": {},
   "outputs": [],
   "source": [
    "#  3\n",
    "\n",
    "class gpc:\n",
    "    def __init__(self,name,age):\n",
    "        self.name=name\n",
    "        self.age=age\n",
    "    \n",
    "class cc(gpc):\n",
    "    def __init__(self,name,age,marks):\n",
    "        super().__init__(name,age)\n",
    "        self.marks=marks\n",
    "        \n",
    "a = cc('ravi',17,76)"
   ]
  },
  {
   "cell_type": "code",
   "execution_count": 24,
   "id": "fcca795f",
   "metadata": {},
   "outputs": [
    {
     "data": {
      "text/plain": [
       "'ravi'"
      ]
     },
     "execution_count": 24,
     "metadata": {},
     "output_type": "execute_result"
    }
   ],
   "source": [
    "a.name"
   ]
  },
  {
   "cell_type": "code",
   "execution_count": 26,
   "id": "1808b751",
   "metadata": {},
   "outputs": [],
   "source": [
    "#  4\n",
    "\n",
    "class gpc:\n",
    "    def __init__(self,name):\n",
    "        self.name=name\n",
    "    \n",
    "class pc(gpc):\n",
    "    def __init__(self,name,age):\n",
    "        super().__init__(name)\n",
    "        self.age=age\n",
    "        \n",
    "class cc(pc):\n",
    "    def __init__(self,name,age,mark):\n",
    "        super().__init__(name,mark)\n",
    "        self.mark=mark\n",
    "c = cc('ram',33,33)"
   ]
  },
  {
   "cell_type": "code",
   "execution_count": 27,
   "id": "dfdc2e5b",
   "metadata": {},
   "outputs": [
    {
     "data": {
      "text/plain": [
       "33"
      ]
     },
     "execution_count": 27,
     "metadata": {},
     "output_type": "execute_result"
    }
   ],
   "source": [
    "c.age"
   ]
  },
  {
   "cell_type": "code",
   "execution_count": 28,
   "id": "4d13cc27",
   "metadata": {},
   "outputs": [
    {
     "data": {
      "text/plain": [
       "'ram'"
      ]
     },
     "execution_count": 28,
     "metadata": {},
     "output_type": "execute_result"
    }
   ],
   "source": [
    "c.name"
   ]
  },
  {
   "cell_type": "code",
   "execution_count": 29,
   "id": "dd222b22",
   "metadata": {},
   "outputs": [],
   "source": [
    "#  1\n",
    "\n",
    "class gpc:\n",
    "    def __init__(self,name):\n",
    "        self.name=name\n",
    "\n",
    "class pc(gpc):\n",
    "    def __init__(self,name,age):\n",
    "        super().__init__(name)\n",
    "        self.age=age\n",
    "        \n",
    "class cc:\n",
    "    def __init__(self,mark):\n",
    "        self.mark=mark\n",
    "        \n",
    "c=pc('ram',76)\n",
    "        "
   ]
  },
  {
   "cell_type": "code",
   "execution_count": 30,
   "id": "1125163f",
   "metadata": {},
   "outputs": [
    {
     "data": {
      "text/plain": [
       "'ram'"
      ]
     },
     "execution_count": 30,
     "metadata": {},
     "output_type": "execute_result"
    }
   ],
   "source": [
    "c.name"
   ]
  },
  {
   "cell_type": "code",
   "execution_count": 33,
   "id": "adda9556",
   "metadata": {},
   "outputs": [],
   "source": [
    "#  2\n",
    "\n",
    "class gpc:\n",
    "    def __init__(self,name):\n",
    "        self.name=name\n",
    "\n",
    "class pc():\n",
    "    def __init__(self,name,age):\n",
    "        super().__init__(name)\n",
    "        self.age=age\n",
    "        \n",
    "class cc(gpc):\n",
    "    def __init__(self,name,mark):\n",
    "        super().__init__(name)\n",
    "        self.mark=mark\n",
    "        \n",
    "        \n",
    "c=cc('ram',76)\n",
    "        "
   ]
  },
  {
   "cell_type": "code",
   "execution_count": 34,
   "id": "a4068370",
   "metadata": {},
   "outputs": [
    {
     "data": {
      "text/plain": [
       "'ram'"
      ]
     },
     "execution_count": 34,
     "metadata": {},
     "output_type": "execute_result"
    }
   ],
   "source": [
    "c.name"
   ]
  },
  {
   "cell_type": "code",
   "execution_count": 38,
   "id": "67bed78f",
   "metadata": {},
   "outputs": [
    {
     "ename": "TypeError",
     "evalue": "__init__() missing 1 required positional argument: 'age'",
     "output_type": "error",
     "traceback": [
      "\u001b[1;31m---------------------------------------------------------------------------\u001b[0m",
      "\u001b[1;31mTypeError\u001b[0m                                 Traceback (most recent call last)",
      "\u001b[1;32m~\\AppData\\Local\\Temp\\ipykernel_5480\\2206218649.py\u001b[0m in \u001b[0;36m<module>\u001b[1;34m\u001b[0m\n\u001b[0;32m     16\u001b[0m \u001b[1;33m\u001b[0m\u001b[0m\n\u001b[0;32m     17\u001b[0m \u001b[1;33m\u001b[0m\u001b[0m\n\u001b[1;32m---> 18\u001b[1;33m \u001b[0mc\u001b[0m\u001b[1;33m=\u001b[0m\u001b[0mcc\u001b[0m\u001b[1;33m(\u001b[0m\u001b[1;36m8\u001b[0m\u001b[1;33m,\u001b[0m\u001b[1;36m76\u001b[0m\u001b[1;33m)\u001b[0m\u001b[1;33m\u001b[0m\u001b[1;33m\u001b[0m\u001b[0m\n\u001b[0m\u001b[0;32m     19\u001b[0m \u001b[1;33m\u001b[0m\u001b[0m\n",
      "\u001b[1;32m~\\AppData\\Local\\Temp\\ipykernel_5480\\2206218649.py\u001b[0m in \u001b[0;36m__init__\u001b[1;34m(self, age, mark)\u001b[0m\n\u001b[0;32m     12\u001b[0m \u001b[1;32mclass\u001b[0m \u001b[0mcc\u001b[0m\u001b[1;33m(\u001b[0m\u001b[0mpc\u001b[0m\u001b[1;33m)\u001b[0m\u001b[1;33m:\u001b[0m\u001b[1;33m\u001b[0m\u001b[1;33m\u001b[0m\u001b[0m\n\u001b[0;32m     13\u001b[0m     \u001b[1;32mdef\u001b[0m \u001b[0m__init__\u001b[0m\u001b[1;33m(\u001b[0m\u001b[0mself\u001b[0m\u001b[1;33m,\u001b[0m\u001b[0mage\u001b[0m\u001b[1;33m,\u001b[0m\u001b[0mmark\u001b[0m\u001b[1;33m)\u001b[0m\u001b[1;33m:\u001b[0m\u001b[1;33m\u001b[0m\u001b[1;33m\u001b[0m\u001b[0m\n\u001b[1;32m---> 14\u001b[1;33m         \u001b[0msuper\u001b[0m\u001b[1;33m(\u001b[0m\u001b[1;33m)\u001b[0m\u001b[1;33m.\u001b[0m\u001b[0m__init__\u001b[0m\u001b[1;33m(\u001b[0m\u001b[0mage\u001b[0m\u001b[1;33m)\u001b[0m\u001b[1;33m\u001b[0m\u001b[1;33m\u001b[0m\u001b[0m\n\u001b[0m\u001b[0;32m     15\u001b[0m         \u001b[0mself\u001b[0m\u001b[1;33m.\u001b[0m\u001b[0mmark\u001b[0m\u001b[1;33m=\u001b[0m\u001b[0mmark\u001b[0m\u001b[1;33m\u001b[0m\u001b[1;33m\u001b[0m\u001b[0m\n\u001b[0;32m     16\u001b[0m \u001b[1;33m\u001b[0m\u001b[0m\n",
      "\u001b[1;31mTypeError\u001b[0m: __init__() missing 1 required positional argument: 'age'"
     ]
    }
   ],
   "source": [
    "#  2\n",
    "\n",
    "class gpc:\n",
    "    def __init__(self,name):\n",
    "        self.name=name\n",
    "\n",
    "class pc():\n",
    "    def __init__(self,name,age):\n",
    "        super().__init__()\n",
    "        self.age=age\n",
    "        \n",
    "class cc(pc):\n",
    "    def __init__(self,age,mark):\n",
    "        super().__init__(age)\n",
    "        self.mark=mark\n",
    "        \n",
    "        \n",
    "c=cc(8,76)\n",
    "        "
   ]
  },
  {
   "cell_type": "code",
   "execution_count": null,
   "id": "75ab591f",
   "metadata": {},
   "outputs": [],
   "source": []
  }
 ],
 "metadata": {
  "kernelspec": {
   "display_name": "Python 3 (ipykernel)",
   "language": "python",
   "name": "python3"
  },
  "language_info": {
   "codemirror_mode": {
    "name": "ipython",
    "version": 3
   },
   "file_extension": ".py",
   "mimetype": "text/x-python",
   "name": "python",
   "nbconvert_exporter": "python",
   "pygments_lexer": "ipython3",
   "version": "3.9.13"
  }
 },
 "nbformat": 4,
 "nbformat_minor": 5
}
