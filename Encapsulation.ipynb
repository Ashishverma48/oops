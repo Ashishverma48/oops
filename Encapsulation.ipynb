{
 "cells": [
  {
   "cell_type": "markdown",
   "id": "635a016b",
   "metadata": {},
   "source": [
    "# Encapsulation"
   ]
  },
  {
   "cell_type": "code",
   "execution_count": 3,
   "id": "44955d00",
   "metadata": {},
   "outputs": [],
   "source": [
    "\n",
    "\n",
    "class emp:\n",
    "    def details (self,name,age):\n",
    "        print(name)\n",
    "        print(age)\n",
    "        \n",
    "    def __info(self,sal):       # (__)  private in function\n",
    "        print(sal)\n",
    "    \n",
    "c=emp()"
   ]
  },
  {
   "cell_type": "code",
   "execution_count": 38,
   "id": "51249ec2",
   "metadata": {},
   "outputs": [
    {
     "name": "stdout",
     "output_type": "stream",
     "text": [
      "python\n",
      "22\n"
     ]
    }
   ],
   "source": [
    "c.details('python',22)"
   ]
  },
  {
   "cell_type": "code",
   "execution_count": 39,
   "id": "7092324e",
   "metadata": {},
   "outputs": [],
   "source": [
    "# creat private encapsulation\n",
    "class emp:\n",
    "    def __init__(self,name,age,__sal):   # private attribute (__)  using constructure\n",
    "        self.name=name\n",
    "        self.age=age\n",
    "        self.__sal=__sal\n",
    "a=emp('ram',23,34)"
   ]
  },
  {
   "cell_type": "code",
   "execution_count": 36,
   "id": "a672e825",
   "metadata": {},
   "outputs": [
    {
     "data": {
      "text/plain": [
       "23"
      ]
     },
     "execution_count": 36,
     "metadata": {},
     "output_type": "execute_result"
    }
   ],
   "source": [
    "a.age"
   ]
  },
  {
   "cell_type": "code",
   "execution_count": 37,
   "id": "4309c09a",
   "metadata": {},
   "outputs": [
    {
     "data": {
      "text/plain": [
       "'ram'"
      ]
     },
     "execution_count": 37,
     "metadata": {},
     "output_type": "execute_result"
    }
   ],
   "source": [
    "a.name"
   ]
  },
  {
   "cell_type": "code",
   "execution_count": 40,
   "id": "670d127f",
   "metadata": {},
   "outputs": [
    {
     "ename": "AttributeError",
     "evalue": "'emp' object has no attribute 'sal'",
     "output_type": "error",
     "traceback": [
      "\u001b[1;31m---------------------------------------------------------------------------\u001b[0m",
      "\u001b[1;31mAttributeError\u001b[0m                            Traceback (most recent call last)",
      "\u001b[1;32m~\\AppData\\Local\\Temp\\ipykernel_5684\\1096816747.py\u001b[0m in \u001b[0;36m<module>\u001b[1;34m\u001b[0m\n\u001b[1;32m----> 1\u001b[1;33m \u001b[0ma\u001b[0m\u001b[1;33m.\u001b[0m\u001b[0msal\u001b[0m\u001b[1;33m\u001b[0m\u001b[1;33m\u001b[0m\u001b[0m\n\u001b[0m",
      "\u001b[1;31mAttributeError\u001b[0m: 'emp' object has no attribute 'sal'"
     ]
    }
   ],
   "source": [
    "a.sal"
   ]
  },
  {
   "cell_type": "code",
   "execution_count": 49,
   "id": "51e76efb",
   "metadata": {},
   "outputs": [],
   "source": [
    "# WAP TO MAKE A CLASS AND TRY TO CHECK THE PRICE OF THE CAR,\n",
    "# MODEL OF CAR AND ALSO CHECK THE TAX ON IT WHICH WOULD BE PRIVATE IN CODE?\n",
    "\n",
    "class car:\n",
    "    def __init__(self,model,price,__tax):  # (__) double under score\n",
    "        self.model=model                     # attribute private\n",
    "        self.price=price\n",
    "        self.__tax=__tax\n",
    "        \n",
    "c=car('BMW',10077000,10004)"
   ]
  },
  {
   "cell_type": "code",
   "execution_count": 50,
   "id": "923ccd44",
   "metadata": {},
   "outputs": [
    {
     "ename": "AttributeError",
     "evalue": "'car' object has no attribute 'tax'",
     "output_type": "error",
     "traceback": [
      "\u001b[1;31m---------------------------------------------------------------------------\u001b[0m",
      "\u001b[1;31mAttributeError\u001b[0m                            Traceback (most recent call last)",
      "\u001b[1;32m~\\AppData\\Local\\Temp\\ipykernel_5684\\3917532789.py\u001b[0m in \u001b[0;36m<module>\u001b[1;34m\u001b[0m\n\u001b[1;32m----> 1\u001b[1;33m \u001b[0mc\u001b[0m\u001b[1;33m.\u001b[0m\u001b[0mtax\u001b[0m\u001b[1;33m\u001b[0m\u001b[1;33m\u001b[0m\u001b[0m\n\u001b[0m",
      "\u001b[1;31mAttributeError\u001b[0m: 'car' object has no attribute 'tax'"
     ]
    }
   ],
   "source": [
    "c.tax"
   ]
  },
  {
   "cell_type": "code",
   "execution_count": 51,
   "id": "0fae8c91",
   "metadata": {},
   "outputs": [
    {
     "data": {
      "text/plain": [
       "'BMW'"
      ]
     },
     "execution_count": 51,
     "metadata": {},
     "output_type": "execute_result"
    }
   ],
   "source": [
    "c.model"
   ]
  },
  {
   "cell_type": "code",
   "execution_count": 52,
   "id": "1d28461b",
   "metadata": {},
   "outputs": [
    {
     "data": {
      "text/plain": [
       "10077000"
      ]
     },
     "execution_count": 52,
     "metadata": {},
     "output_type": "execute_result"
    }
   ],
   "source": [
    "c.price"
   ]
  },
  {
   "cell_type": "code",
   "execution_count": 53,
   "id": "03ec87ee",
   "metadata": {},
   "outputs": [],
   "source": [
    "class car:\n",
    "    def __init__(self,model,price,_tax):   # (_) single under score\n",
    "        self.model=model                   # protected  attribute\n",
    "        self.price=price\n",
    "        self._tax=_tax\n",
    "        \n",
    "c=car('BMW',10077000,10004)"
   ]
  },
  {
   "cell_type": "code",
   "execution_count": 55,
   "id": "f409ad0b",
   "metadata": {},
   "outputs": [
    {
     "data": {
      "text/plain": [
       "10004"
      ]
     },
     "execution_count": 55,
     "metadata": {},
     "output_type": "execute_result"
    }
   ],
   "source": [
    "c._tax"
   ]
  },
  {
   "cell_type": "code",
   "execution_count": 58,
   "id": "22ed54be",
   "metadata": {},
   "outputs": [
    {
     "data": {
      "text/plain": [
       "10004"
      ]
     },
     "execution_count": 58,
     "metadata": {},
     "output_type": "execute_result"
    }
   ],
   "source": [
    "c._tax"
   ]
  },
  {
   "cell_type": "markdown",
   "id": "379651a5",
   "metadata": {},
   "source": [
    "# POLYMORPHISM"
   ]
  },
  {
   "cell_type": "code",
   "execution_count": 59,
   "id": "d65c59c4",
   "metadata": {},
   "outputs": [
    {
     "name": "stdout",
     "output_type": "stream",
     "text": [
      "9\n"
     ]
    }
   ],
   "source": [
    "a=3\n",
    "b=6\n",
    "c=a+b\n",
    "print(c)"
   ]
  },
  {
   "cell_type": "code",
   "execution_count": 60,
   "id": "26e2f1ce",
   "metadata": {},
   "outputs": [
    {
     "name": "stdout",
     "output_type": "stream",
     "text": [
      "hellopython\n"
     ]
    }
   ],
   "source": [
    "a='hello'\n",
    "b='python'\n",
    "c=a+b\n",
    "print(c)"
   ]
  },
  {
   "cell_type": "code",
   "execution_count": 83,
   "id": "10a68925",
   "metadata": {},
   "outputs": [],
   "source": [
    "class x:\n",
    "    def add(self,a,b):\n",
    "        c=a+b\n",
    "        return c\n",
    "    def add1(self,s1,s2):\n",
    "        s=s1+s2\n",
    "        return s\n",
    "        \n",
    "y=x()"
   ]
  },
  {
   "cell_type": "code",
   "execution_count": 84,
   "id": "3b2bfb5e",
   "metadata": {},
   "outputs": [
    {
     "data": {
      "text/plain": [
       "130"
      ]
     },
     "execution_count": 84,
     "metadata": {},
     "output_type": "execute_result"
    }
   ],
   "source": [
    "y.add(44,86)"
   ]
  },
  {
   "cell_type": "code",
   "execution_count": 85,
   "id": "3fb36200",
   "metadata": {},
   "outputs": [
    {
     "data": {
      "text/plain": [
       "'hello python'"
      ]
     },
     "execution_count": 85,
     "metadata": {},
     "output_type": "execute_result"
    }
   ],
   "source": [
    "y.add1('hello ','python')"
   ]
  },
  {
   "cell_type": "code",
   "execution_count": 69,
   "id": "ffcd13c3",
   "metadata": {},
   "outputs": [
    {
     "name": "stdout",
     "output_type": "stream",
     "text": [
      "69\n"
     ]
    }
   ],
   "source": [
    "class x:\n",
    "    a=63\n",
    "    b=6\n",
    "    c=a+b\n",
    "    print(c)\n",
    "y=x()"
   ]
  },
  {
   "cell_type": "code",
   "execution_count": 72,
   "id": "c361125f",
   "metadata": {},
   "outputs": [
    {
     "name": "stdout",
     "output_type": "stream",
     "text": [
      "hellopython\n"
     ]
    }
   ],
   "source": [
    "class y:\n",
    "    a='hello'\n",
    "    b='python'\n",
    "    c=a+b\n",
    "    print(c)\n",
    "    \n",
    "x=y()"
   ]
  },
  {
   "cell_type": "code",
   "execution_count": 88,
   "id": "6ae03001",
   "metadata": {},
   "outputs": [],
   "source": [
    "class marks:\n",
    "    def add(self,x=-2,y=9):\n",
    "        z=x+y\n",
    "        return z\n",
    "m=marks()"
   ]
  },
  {
   "cell_type": "code",
   "execution_count": 89,
   "id": "f0cb78e5",
   "metadata": {},
   "outputs": [
    {
     "data": {
      "text/plain": [
       "7"
      ]
     },
     "execution_count": 89,
     "metadata": {},
     "output_type": "execute_result"
    }
   ],
   "source": [
    "m.add()"
   ]
  },
  {
   "cell_type": "code",
   "execution_count": 2,
   "id": "d98e9b68",
   "metadata": {},
   "outputs": [
    {
     "ename": "SyntaxError",
     "evalue": "non-default argument follows default argument (3454183327.py, line 2)",
     "output_type": "error",
     "traceback": [
      "\u001b[1;36m  File \u001b[1;32m\"C:\\Users\\ashis\\AppData\\Local\\Temp\\ipykernel_11148\\3454183327.py\"\u001b[1;36m, line \u001b[1;32m2\u001b[0m\n\u001b[1;33m    def add(self,x=3,y):\u001b[0m\n\u001b[1;37m                      ^\u001b[0m\n\u001b[1;31mSyntaxError\u001b[0m\u001b[1;31m:\u001b[0m non-default argument follows default argument\n"
     ]
    }
   ],
   "source": [
    "class marks:\n",
    "    def add(self,x=3,y):\n",
    "        z=x+y\n",
    "        return z\n",
    "m=marks(7)"
   ]
  },
  {
   "cell_type": "code",
   "execution_count": null,
   "id": "d6b0c2b9",
   "metadata": {},
   "outputs": [],
   "source": []
  }
 ],
 "metadata": {
  "kernelspec": {
   "display_name": "Python 3 (ipykernel)",
   "language": "python",
   "name": "python3"
  },
  "language_info": {
   "codemirror_mode": {
    "name": "ipython",
    "version": 3
   },
   "file_extension": ".py",
   "mimetype": "text/x-python",
   "name": "python",
   "nbconvert_exporter": "python",
   "pygments_lexer": "ipython3",
   "version": "3.9.13"
  }
 },
 "nbformat": 4,
 "nbformat_minor": 5
}
