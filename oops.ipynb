{
 "cells": [
  {
   "cell_type": "code",
   "execution_count": 5,
   "id": "2272508b",
   "metadata": {},
   "outputs": [
    {
     "name": "stdout",
     "output_type": "stream",
     "text": [
      "1896.0\n"
     ]
    }
   ],
   "source": [
    "class std:\n",
    "    def student(self,s1,s2,s3):\n",
    "        avr = (s1+s2+s3)/3\n",
    "        print(avr)\n",
    "a = std()\n",
    "a.student(5556,56,76)\n",
    "        "
   ]
  },
  {
   "cell_type": "code",
   "execution_count": 11,
   "id": "562b17c6",
   "metadata": {},
   "outputs": [
    {
     "data": {
      "text/plain": [
       "6"
      ]
     },
     "execution_count": 11,
     "metadata": {},
     "output_type": "execute_result"
    }
   ],
   "source": [
    "# creat object\n",
    "class hello:    # class\n",
    "    x=6     # property of class\n",
    "    # creating object of class\n",
    "a=hello()     # a is an object of class\n",
    "\n",
    "a.x"
   ]
  },
  {
   "cell_type": "code",
   "execution_count": 14,
   "id": "1a540475",
   "metadata": {},
   "outputs": [
    {
     "name": "stdout",
     "output_type": "stream",
     "text": [
      "HELLO PYTHON\n"
     ]
    }
   ],
   "source": [
    "# calling a gunction by object\n",
    "\n",
    "class myclass:\n",
    "    def myfunction(self):\n",
    "        print(\"HELLO PYTHON\")\n",
    "        \n",
    "    # creating a object\n",
    "a=myclass()\n",
    "a.myfunction()"
   ]
  },
  {
   "cell_type": "markdown",
   "id": "80434609",
   "metadata": {},
   "source": [
    "# Constrcture"
   ]
  },
  {
   "cell_type": "code",
   "execution_count": 17,
   "id": "40e097f3",
   "metadata": {},
   "outputs": [
    {
     "name": "stdout",
     "output_type": "stream",
     "text": [
      "PYTHON CONSTRUTURE\n"
     ]
    }
   ],
   "source": [
    "class myclass:\n",
    "    def __init__(self):\n",
    "        print(\"PYTHON CONSTRUTURE\")\n",
    "# CREATING OBJECT\n",
    "a = myclass()"
   ]
  },
  {
   "cell_type": "code",
   "execution_count": 23,
   "id": "25926eb1",
   "metadata": {},
   "outputs": [],
   "source": [
    "# change value by object\n",
    "\n",
    "class emp:\n",
    "    def __init__(self,name,age):\n",
    "        self.name = name\n",
    "        self.age = age\n",
    "    def myfunction(self):\n",
    "        print(\"my name is  \",self.name)\n",
    "# ceating A object\n",
    "\n",
    "m = emp(\"RAM\",26)\n",
    "m.age\n",
    "\n",
    "#CHANGING THE AGE USING OBJECT\n",
    "\n",
    "m.age=34\n",
    "\n",
    "# DELETE THE OBJECT\n",
    "\n",
    "del m.age"
   ]
  },
  {
   "cell_type": "code",
   "execution_count": 20,
   "id": "9a597e73",
   "metadata": {},
   "outputs": [
    {
     "data": {
      "text/plain": [
       "'ram'"
      ]
     },
     "execution_count": 20,
     "metadata": {},
     "output_type": "execute_result"
    }
   ],
   "source": [
    "m.name"
   ]
  },
  {
   "cell_type": "code",
   "execution_count": 24,
   "id": "3d1aa2ef",
   "metadata": {},
   "outputs": [
    {
     "ename": "AttributeError",
     "evalue": "'emp' object has no attribute 'age'",
     "output_type": "error",
     "traceback": [
      "\u001b[1;31m---------------------------------------------------------------------------\u001b[0m",
      "\u001b[1;31mAttributeError\u001b[0m                            Traceback (most recent call last)",
      "\u001b[1;32m~\\AppData\\Local\\Temp\\ipykernel_13676\\1066574253.py\u001b[0m in \u001b[0;36m<module>\u001b[1;34m\u001b[0m\n\u001b[1;32m----> 1\u001b[1;33m \u001b[0mm\u001b[0m\u001b[1;33m.\u001b[0m\u001b[0mage\u001b[0m\u001b[1;33m\u001b[0m\u001b[1;33m\u001b[0m\u001b[0m\n\u001b[0m",
      "\u001b[1;31mAttributeError\u001b[0m: 'emp' object has no attribute 'age'"
     ]
    }
   ],
   "source": [
    "m.age"
   ]
  },
  {
   "cell_type": "markdown",
   "id": "d9eabee4",
   "metadata": {},
   "source": [
    "# inheritence"
   ]
  },
  {
   "cell_type": "code",
   "execution_count": null,
   "id": "a345146c",
   "metadata": {},
   "outputs": [],
   "source": []
  }
 ],
 "metadata": {
  "kernelspec": {
   "display_name": "Python 3 (ipykernel)",
   "language": "python",
   "name": "python3"
  },
  "language_info": {
   "codemirror_mode": {
    "name": "ipython",
    "version": 3
   },
   "file_extension": ".py",
   "mimetype": "text/x-python",
   "name": "python",
   "nbconvert_exporter": "python",
   "pygments_lexer": "ipython3",
   "version": "3.9.13"
  }
 },
 "nbformat": 4,
 "nbformat_minor": 5
}
