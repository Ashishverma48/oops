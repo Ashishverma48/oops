{
 "cells": [
  {
   "cell_type": "code",
   "execution_count": 1,
   "id": "012cd5bb",
   "metadata": {},
   "outputs": [],
   "source": [
    "#  1 GRAND PARENT CLASS TO PARENT CLASS\n",
    "\n",
    "class gpc:\n",
    "    def __init__(self,name):\n",
    "        self.name=name\n",
    "\n",
    "class pc(gpc):\n",
    "    def __init__(self,name,age):\n",
    "        super().__init__(name)\n",
    "        self.age=age\n",
    "        \n",
    "class cc:\n",
    "    def __init__(self,sal):\n",
    "        self.sal=sal\n",
    "        \n",
    "a = pc('ram',33)"
   ]
  },
  {
   "cell_type": "code",
   "execution_count": 2,
   "id": "54d76638",
   "metadata": {},
   "outputs": [
    {
     "data": {
      "text/plain": [
       "('ram', 33)"
      ]
     },
     "execution_count": 2,
     "metadata": {},
     "output_type": "execute_result"
    }
   ],
   "source": [
    "a.name,a.age"
   ]
  },
  {
   "cell_type": "code",
   "execution_count": 3,
   "id": "8f393dec",
   "metadata": {},
   "outputs": [],
   "source": [
    "# 2  PARENT CLASS TO CHILD CLASS\n",
    "\n",
    "class gpc:\n",
    "    def __init__(self,name):\n",
    "        self.name=name\n",
    "        \n",
    "class pc:\n",
    "    def __init__(self,age):\n",
    "        self.age=age\n",
    "        \n",
    "class cc(pc):\n",
    "    def __init__(self,age,sal):\n",
    "        super().__init__(age)\n",
    "        self.sal=sal\n",
    "        \n",
    "a = cc(22,33)"
   ]
  },
  {
   "cell_type": "code",
   "execution_count": 7,
   "id": "d495f697",
   "metadata": {},
   "outputs": [
    {
     "data": {
      "text/plain": [
       "(33, 22)"
      ]
     },
     "execution_count": 7,
     "metadata": {},
     "output_type": "execute_result"
    }
   ],
   "source": [
    "a.sal,a.age"
   ]
  },
  {
   "cell_type": "code",
   "execution_count": 10,
   "id": "1bab5861",
   "metadata": {},
   "outputs": [],
   "source": [
    "# 3 GRAND PARENT CLASS TO CHILD CLASS\n",
    "\n",
    "class gpc:\n",
    "    def __init__(self,name):\n",
    "        self.name=name\n",
    "        \n",
    "class pc:\n",
    "    def __init__(self,age):\n",
    "        self.age=age\n",
    "        \n",
    "class cc(gpc):\n",
    "    def __init__(self,name,sal):\n",
    "        super().__init__(name)\n",
    "        self.sal=sal\n",
    "        \n",
    "a=cc('ram',44545)"
   ]
  },
  {
   "cell_type": "code",
   "execution_count": 11,
   "id": "873220ab",
   "metadata": {},
   "outputs": [
    {
     "data": {
      "text/plain": [
       "'ram'"
      ]
     },
     "execution_count": 11,
     "metadata": {},
     "output_type": "execute_result"
    }
   ],
   "source": [
    "a.name"
   ]
  },
  {
   "cell_type": "code",
   "execution_count": 12,
   "id": "30d08241",
   "metadata": {},
   "outputs": [
    {
     "data": {
      "text/plain": [
       "44545"
      ]
     },
     "execution_count": 12,
     "metadata": {},
     "output_type": "execute_result"
    }
   ],
   "source": [
    "a.sal"
   ]
  },
  {
   "cell_type": "code",
   "execution_count": 15,
   "id": "71d1f65b",
   "metadata": {},
   "outputs": [],
   "source": [
    "# 4 GRAND PARENT CLASS TO PARENT CLASS TO CHILD CLASS\n",
    "\n",
    "class gpc:\n",
    "    def __init__(self,name):\n",
    "        self.name=name\n",
    "        \n",
    "class pc(gpc):\n",
    "    def __init__(self,name,age):\n",
    "        super().__init__(name)\n",
    "        self.age=age\n",
    "        \n",
    "class cc(pc):\n",
    "    def __init__(self,name,age,sal):\n",
    "        super().__init__(name,age)\n",
    "        self.sal=sal\n",
    "        \n",
    "a=cc('ram',53,33)"
   ]
  },
  {
   "cell_type": "code",
   "execution_count": 16,
   "id": "5b38c198",
   "metadata": {},
   "outputs": [
    {
     "data": {
      "text/plain": [
       "'ram'"
      ]
     },
     "execution_count": 16,
     "metadata": {},
     "output_type": "execute_result"
    }
   ],
   "source": [
    "a.name"
   ]
  },
  {
   "cell_type": "code",
   "execution_count": 17,
   "id": "83aac400",
   "metadata": {},
   "outputs": [
    {
     "data": {
      "text/plain": [
       "33"
      ]
     },
     "execution_count": 17,
     "metadata": {},
     "output_type": "execute_result"
    }
   ],
   "source": [
    "a.sal"
   ]
  },
  {
   "cell_type": "code",
   "execution_count": 18,
   "id": "98920325",
   "metadata": {},
   "outputs": [
    {
     "data": {
      "text/plain": [
       "53"
      ]
     },
     "execution_count": 18,
     "metadata": {},
     "output_type": "execute_result"
    }
   ],
   "source": [
    "a.age"
   ]
  },
  {
   "cell_type": "code",
   "execution_count": null,
   "id": "62f77c5f",
   "metadata": {},
   "outputs": [],
   "source": []
  }
 ],
 "metadata": {
  "kernelspec": {
   "display_name": "Python 3 (ipykernel)",
   "language": "python",
   "name": "python3"
  },
  "language_info": {
   "codemirror_mode": {
    "name": "ipython",
    "version": 3
   },
   "file_extension": ".py",
   "mimetype": "text/x-python",
   "name": "python",
   "nbconvert_exporter": "python",
   "pygments_lexer": "ipython3",
   "version": "3.9.13"
  }
 },
 "nbformat": 4,
 "nbformat_minor": 5
}
