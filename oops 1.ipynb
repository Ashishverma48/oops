{
 "cells": [
  {
   "cell_type": "code",
   "execution_count": 7,
   "id": "4989c013",
   "metadata": {},
   "outputs": [],
   "source": [
    "# reverse \n",
    "def reverse():\n",
    "    x = 'python'\n",
    "    y = ''\n",
    "    for i in x:\n",
    "        y=i+y\n",
    "    print(y)\n",
    "    if x!=y:\n",
    "        print('reverse')\n",
    "    else:\n",
    "        print('Not Reverse')"
   ]
  },
  {
   "cell_type": "code",
   "execution_count": 8,
   "id": "5b1b0600",
   "metadata": {},
   "outputs": [
    {
     "name": "stdout",
     "output_type": "stream",
     "text": [
      "nohtyp\n",
      "reverse\n"
     ]
    }
   ],
   "source": [
    "reverse()"
   ]
  },
  {
   "cell_type": "code",
   "execution_count": 21,
   "id": "503ea70d",
   "metadata": {},
   "outputs": [],
   "source": [
    "# palindrom\n",
    "\n",
    "def palindrom():\n",
    "    x = 'nitin'\n",
    "    y = ''\n",
    "    for i in x:\n",
    "        y=i+y\n",
    "    print(y)\n",
    "    if x==y:\n",
    "        print('palindrom')\n",
    "    else:\n",
    "        print('Not palindrom')\n",
    "        "
   ]
  },
  {
   "cell_type": "code",
   "execution_count": 22,
   "id": "70b97293",
   "metadata": {},
   "outputs": [
    {
     "name": "stdout",
     "output_type": "stream",
     "text": [
      "nitin\n",
      "palindrom\n"
     ]
    }
   ],
   "source": [
    "palindrom()"
   ]
  },
  {
   "cell_type": "code",
   "execution_count": 27,
   "id": "68490b09",
   "metadata": {},
   "outputs": [],
   "source": [
    "# palindrom\n",
    "\n",
    "def palindrom():\n",
    "    x = 'python'\n",
    "    y = ''\n",
    "    for i in x:\n",
    "        y=i+y\n",
    "    print(y)\n",
    "    if x!=y:\n",
    "        print('reverse')\n",
    "    else:\n",
    "        print('palindrom')\n",
    "        "
   ]
  },
  {
   "cell_type": "code",
   "execution_count": 28,
   "id": "c913ac77",
   "metadata": {},
   "outputs": [
    {
     "name": "stdout",
     "output_type": "stream",
     "text": [
      "nohtyp\n",
      "reverse\n"
     ]
    }
   ],
   "source": [
    "palindrom()"
   ]
  },
  {
   "cell_type": "markdown",
   "id": "c6db0920",
   "metadata": {},
   "source": [
    "# oops    object oriented programming structure"
   ]
  },
  {
   "cell_type": "code",
   "execution_count": 37,
   "id": "70dc2036",
   "metadata": {},
   "outputs": [
    {
     "name": "stdout",
     "output_type": "stream",
     "text": [
      "ak 76\n"
     ]
    }
   ],
   "source": [
    "class std:\n",
    "    def details(self,name,age):\n",
    "        print(name,age)\n",
    "s = std()\n",
    "s.details('ak',76)"
   ]
  },
  {
   "cell_type": "code",
   "execution_count": 45,
   "id": "bcb01c26",
   "metadata": {},
   "outputs": [
    {
     "name": "stdout",
     "output_type": "stream",
     "text": [
      "51.0\n"
     ]
    }
   ],
   "source": [
    "# wap to find the avr of a students in three subjects\n",
    "class std:\n",
    "    def student(self,sub1,sub2,sub3):\n",
    "        total = sub1+sub2+sub3\n",
    "        average = total/3\n",
    "        print(average)\n",
    "a = std()\n",
    "a.student(54,65,34)"
   ]
  },
  {
   "cell_type": "markdown",
   "id": "d01b7c31",
   "metadata": {},
   "source": [
    "\n",
    "# constructure\n",
    " "
   ]
  },
  {
   "cell_type": "code",
   "execution_count": 53,
   "id": "c05ac157",
   "metadata": {},
   "outputs": [
    {
     "data": {
      "text/plain": [
       "343"
      ]
     },
     "execution_count": 53,
     "metadata": {},
     "output_type": "execute_result"
    }
   ],
   "source": [
    "class emp:\n",
    "    def __init__(self,name,sal):\n",
    "        self.name=name\n",
    "        self.sal=sal\n",
    "e = emp('Ram',343)\n",
    "e.sal"
   ]
  },
  {
   "cell_type": "code",
   "execution_count": 54,
   "id": "e0bd6e85",
   "metadata": {},
   "outputs": [
    {
     "data": {
      "text/plain": [
       "'Ram'"
      ]
     },
     "execution_count": 54,
     "metadata": {},
     "output_type": "execute_result"
    }
   ],
   "source": [
    "e.name"
   ]
  },
  {
   "cell_type": "code",
   "execution_count": 20,
   "id": "3024db6a",
   "metadata": {},
   "outputs": [
    {
     "name": "stdout",
     "output_type": "stream",
     "text": [
      "210.66666666666666\n"
     ]
    },
    {
     "data": {
      "text/plain": [
       "54"
      ]
     },
     "execution_count": 20,
     "metadata": {},
     "output_type": "execute_result"
    }
   ],
   "source": [
    "# evrage marks\n",
    "\n",
    "class std:\n",
    "    def __init__(self,sub1,sub2,sub3):\n",
    "        self.sub1=sub1\n",
    "        self.sub2=sub2\n",
    "        self.sub3=sub3\n",
    "        avr = (sub1+sub2+sub3)/3\n",
    " \n",
    "        print(avr)\n",
    "a = std(234,344,54)\n",
    "a.sub3"
   ]
  },
  {
   "cell_type": "code",
   "execution_count": 12,
   "id": "876a56e0",
   "metadata": {},
   "outputs": [
    {
     "data": {
      "text/plain": [
       "43"
      ]
     },
     "execution_count": 12,
     "metadata": {},
     "output_type": "execute_result"
    }
   ],
   "source": [
    "a.sub1"
   ]
  },
  {
   "cell_type": "code",
   "execution_count": 16,
   "id": "468840ef",
   "metadata": {},
   "outputs": [],
   "source": [
    "class std:\n",
    "    def __init__(self,name,age):\n",
    "        self.name=name\n",
    "        self.age=age\n",
    "    def dis(self):\n",
    "        print(name,age)\n",
    "    \n",
    "    \n",
    "s=std('ram',73)\n",
    "    \n"
   ]
  },
  {
   "cell_type": "code",
   "execution_count": 5,
   "id": "1eb6f26e",
   "metadata": {},
   "outputs": [
    {
     "data": {
      "text/plain": [
       "'ram'"
      ]
     },
     "execution_count": 5,
     "metadata": {},
     "output_type": "execute_result"
    }
   ],
   "source": [
    "s.name"
   ]
  },
  {
   "cell_type": "code",
   "execution_count": 12,
   "id": "d8eed789",
   "metadata": {},
   "outputs": [
    {
     "name": "stdout",
     "output_type": "stream",
     "text": [
      "NAME IS -  RAM\n",
      "AGE IS -  65\n",
      "SALARY IS -  75\n"
     ]
    }
   ],
   "source": [
    "class emp:\n",
    "    def details(self,name,age,salary):\n",
    "        print(\"NAME IS - \",name)\n",
    "        print(\"AGE IS - \",age)\n",
    "        print('SALARY IS - ',salary)\n",
    "s=emp()\n",
    "s.details('RAM',65,75)"
   ]
  },
  {
   "cell_type": "code",
   "execution_count": 10,
   "id": "58f176cf",
   "metadata": {},
   "outputs": [
    {
     "name": "stdout",
     "output_type": "stream",
     "text": [
      "83.0\n"
     ]
    },
    {
     "data": {
      "text/plain": [
       "87"
      ]
     },
     "execution_count": 10,
     "metadata": {},
     "output_type": "execute_result"
    }
   ],
   "source": [
    "# evrage marks find in constructure under function\n",
    "\n",
    "class std:\n",
    "    def __init__(self,sub1,sub2,sub3):\n",
    "        self.sub1=sub1\n",
    "        self.sub2=sub2\n",
    "        self.sub3=sub3\n",
    "    def mark(self):\n",
    "        avr= (self.sub1+self.sub2+self.sub3)/3\n",
    "        return avr\n",
    "        \n",
    "s=std(86,87,76)\n",
    "print(s.mark())\n",
    "s.sub2"
   ]
  },
  {
   "cell_type": "code",
   "execution_count": 8,
   "id": "726f0efa",
   "metadata": {},
   "outputs": [
    {
     "data": {
      "text/plain": [
       "86"
      ]
     },
     "execution_count": 8,
     "metadata": {},
     "output_type": "execute_result"
    }
   ],
   "source": [
    "s.sub1"
   ]
  },
  {
   "cell_type": "code",
   "execution_count": null,
   "id": "189854d4",
   "metadata": {},
   "outputs": [],
   "source": []
  },
  {
   "cell_type": "code",
   "execution_count": null,
   "id": "29ee3d2e",
   "metadata": {},
   "outputs": [],
   "source": []
  },
  {
   "cell_type": "code",
   "execution_count": null,
   "id": "2386db96",
   "metadata": {},
   "outputs": [],
   "source": []
  }
 ],
 "metadata": {
  "kernelspec": {
   "display_name": "Python 3 (ipykernel)",
   "language": "python",
   "name": "python3"
  },
  "language_info": {
   "codemirror_mode": {
    "name": "ipython",
    "version": 3
   },
   "file_extension": ".py",
   "mimetype": "text/x-python",
   "name": "python",
   "nbconvert_exporter": "python",
   "pygments_lexer": "ipython3",
   "version": "3.9.13"
  }
 },
 "nbformat": 4,
 "nbformat_minor": 5
}
